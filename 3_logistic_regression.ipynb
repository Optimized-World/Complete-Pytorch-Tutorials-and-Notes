{
  "nbformat": 4,
  "nbformat_minor": 0,
  "metadata": {
    "kernelspec": {
      "display_name": "Python 3",
      "language": "python",
      "name": "python3"
    },
    "language_info": {
      "codemirror_mode": {
        "name": "ipython",
        "version": 3
      },
      "file_extension": ".py",
      "mimetype": "text/x-python",
      "name": "python",
      "nbconvert_exporter": "python",
      "pygments_lexer": "ipython3",
      "version": "3.6.4"
    },
    "colab": {
      "name": " 3-logistic-regression.ipynb",
      "provenance": [],
      "include_colab_link": true
    }
  },
  "cells": [
    {
      "cell_type": "markdown",
      "metadata": {
        "id": "view-in-github",
        "colab_type": "text"
      },
      "source": [
        "<a href=\"https://colab.research.google.com/github/Optimized-World/Complete-Pytorch-Tutorials-and-Notes/blob/master/3_logistic_regression.ipynb\" target=\"_parent\"><img src=\"https://colab.research.google.com/assets/colab-badge.svg\" alt=\"Open In Colab\"/></a>"
      ]
    },
    {
      "cell_type": "markdown",
      "metadata": {
        "id": "0ZPDuRA809bJ",
        "colab_type": "text"
      },
      "source": [
        "#### Part 3 \n",
        "\n",
        "# Image Classification using Logistic Regression in PyTorch\n",
        "\n",
        "*This Notebook is the third in a series of tutorials on building deep learning models with PyTorch, an open source neural networks library developed and maintained by Facebook. Check previous Notebooks of this series:*\n",
        "\n",
        "1. [PyTorch Basics: Tensors & Gradients](https://github.com/Optimized-World/Complete-Pytorch-Tutorials-and-Notes/blob/master/1_Pytorch_Basics.ipynb)\n",
        "2. [Linear Regression & Gradient Descent](https://github.com/Optimized-World/Complete-Pytorch-Tutorials-and-Notes/blob/master/2_linear_regression.ipynb)"
      ]
    },
    {
      "cell_type": "markdown",
      "metadata": {
        "id": "K88htTqU09bK",
        "colab_type": "text"
      },
      "source": [
        "In this tutorial, we'll use our existing knowledge of PyTorch and linear regression to solve a very different kind of problem: *image classification*. We'll use the famous [*MNIST Handwritten Digits Database*](http://yann.lecun.com/exdb/mnist/) as our training dataset. It consists of 28px by 28px grayscale images of handwritten digits (0 to 9), along with labels for each image indicating which digit it represents. Here are some sample images from the dataset:\n",
        "\n",
        "![mnist-sample](https://i.imgur.com/CAYnuo1.jpg)"
      ]
    },
    {
      "cell_type": "markdown",
      "metadata": {
        "id": "hln_x92l09bM",
        "colab_type": "text"
      },
      "source": [
        "## Exploring the Data\n",
        "\n",
        "We begin by importing `torch` and `torchvision`. `torchvision` contains some utilities for working with image data. It also contains helper classes to automatically download and import popular datasets like MNIST."
      ]
    },
    {
      "cell_type": "code",
      "metadata": {
        "id": "ILQuPudY09bM",
        "colab_type": "code",
        "colab": {}
      },
      "source": [
        "# Uncomment and run the commands below if imports fail\n",
        "# !pip install torchvision\n",
        "# !pip install matplotlib --upgrade --quiet"
      ],
      "execution_count": 0,
      "outputs": []
    },
    {
      "cell_type": "code",
      "metadata": {
        "id": "vbg2TIei09bP",
        "colab_type": "code",
        "colab": {}
      },
      "source": [
        "# Imports\n",
        "import torch\n",
        "import torchvision\n",
        "from torchvision.datasets import MNIST"
      ],
      "execution_count": 0,
      "outputs": []
    },
    {
      "cell_type": "code",
      "metadata": {
        "id": "y2PCwjde09bS",
        "colab_type": "code",
        "colab": {}
      },
      "source": [
        "# Download training dataset\n",
        "dataset = MNIST(root='data/', download=True)"
      ],
      "execution_count": 0,
      "outputs": []
    },
    {
      "cell_type": "markdown",
      "metadata": {
        "id": "mfFKxjQm09bV",
        "colab_type": "text"
      },
      "source": [
        "When this statement is executed for the first time, it downloads the data to the `data/` directory next to the notebook and creates a PyTorch `Dataset`. On subsequent executions, the download is skipped as the data is already downloaded. Let's check the size of the dataset."
      ]
    },
    {
      "cell_type": "code",
      "metadata": {
        "id": "2KHibBlc09bW",
        "colab_type": "code",
        "outputId": "ae46a3e5-564b-4837-825d-d6c7c0694eb9",
        "colab": {
          "base_uri": "https://localhost:8080/",
          "height": 34
        }
      },
      "source": [
        "len(dataset)"
      ],
      "execution_count": 27,
      "outputs": [
        {
          "output_type": "execute_result",
          "data": {
            "text/plain": [
              "60000"
            ]
          },
          "metadata": {
            "tags": []
          },
          "execution_count": 27
        }
      ]
    },
    {
      "cell_type": "markdown",
      "metadata": {
        "id": "RMsU60ab09bg",
        "colab_type": "text"
      },
      "source": [
        "The dataset has 60,000 images which can be used to train the model. There is also an additonal test set of 10,000 images which can be created by passing `train=False` to the `MNIST` class."
      ]
    },
    {
      "cell_type": "code",
      "metadata": {
        "id": "cb-63P-y09bh",
        "colab_type": "code",
        "outputId": "fda9445c-63e8-4b51-e138-fce36fad5cee",
        "colab": {
          "base_uri": "https://localhost:8080/",
          "height": 34
        }
      },
      "source": [
        "test_dataset = MNIST(root='data/', train=False)\n",
        "len(test_dataset)"
      ],
      "execution_count": 28,
      "outputs": [
        {
          "output_type": "execute_result",
          "data": {
            "text/plain": [
              "10000"
            ]
          },
          "metadata": {
            "tags": []
          },
          "execution_count": 28
        }
      ]
    },
    {
      "cell_type": "markdown",
      "metadata": {
        "id": "ve3ifJUH09bt",
        "colab_type": "text"
      },
      "source": [
        "Let's look at a sample element from the training dataset."
      ]
    },
    {
      "cell_type": "code",
      "metadata": {
        "id": "yNBlbeii09bv",
        "colab_type": "code",
        "outputId": "2de4ab1f-88de-4ff9-cfba-a24a0cfd7539",
        "colab": {
          "base_uri": "https://localhost:8080/",
          "height": 34
        }
      },
      "source": [
        "dataset[0]"
      ],
      "execution_count": 29,
      "outputs": [
        {
          "output_type": "execute_result",
          "data": {
            "text/plain": [
              "(<PIL.Image.Image image mode=L size=28x28 at 0x7F70A1B6A630>, 5)"
            ]
          },
          "metadata": {
            "tags": []
          },
          "execution_count": 29
        }
      ]
    },
    {
      "cell_type": "markdown",
      "metadata": {
        "id": "mjUrUrNC09b9",
        "colab_type": "text"
      },
      "source": [
        "It's a pair, consisting of a 28x28 image and a label. The image is an object of the class `PIL.Image.Image`, which is a part of the Python imaging library [Pillow](https://pillow.readthedocs.io/en/stable/). We can view the image within Jupyter using [`matplotlib`](https://matplotlib.org/), the de-facto plotting and graphing library for data science in Python."
      ]
    },
    {
      "cell_type": "code",
      "metadata": {
        "id": "cej60fvv09b-",
        "colab_type": "code",
        "colab": {}
      },
      "source": [
        "import matplotlib.pyplot as plt\n",
        "%matplotlib inline"
      ],
      "execution_count": 0,
      "outputs": []
    },
    {
      "cell_type": "markdown",
      "metadata": {
        "id": "crvv7cTV09cJ",
        "colab_type": "text"
      },
      "source": [
        "Along with importing `matplotlib`, a special statement `%matplotlib inline` is added to indicate to Jupyter that we want to plot the graphs within the notebook. Without this line, Jupyter will show the image in a popup. Statements starting with `%` are called IPython magic commands, and are used to configure the behavior of Jupyter itself. You can find a full list of magic commands here: https://ipython.readthedocs.io/en/stable/interactive/magics.html .\n",
        "\n",
        "Let's look at a couple of images from the dataset."
      ]
    },
    {
      "cell_type": "code",
      "metadata": {
        "id": "9kZ45d4g09cJ",
        "colab_type": "code",
        "outputId": "ae2f7e5c-4621-4a28-ab38-00c47b6083f7",
        "colab": {
          "base_uri": "https://localhost:8080/",
          "height": 282
        }
      },
      "source": [
        "image, label = dataset[0]\n",
        "plt.imshow(image, cmap='gray')\n",
        "print('Label:', label)"
      ],
      "execution_count": 31,
      "outputs": [
        {
          "output_type": "stream",
          "text": [
            "Label: 5\n"
          ],
          "name": "stdout"
        },
        {
          "output_type": "display_data",
          "data": {
            "image/png": "[encoded data removed]",
            "text/plain": [
              "<Figure size 432x288 with 1 Axes>"
            ]
          },
          "metadata": {
            "tags": [],
            "needs_background": "light"
          }
        }
      ]
    },
    {
      "cell_type": "code",
      "metadata": {
        "id": "6CdBBGLe09cO",
        "colab_type": "code",
        "outputId": "d192ef2b-e879-4381-9fcb-e6ccb69df855",
        "colab": {
          "base_uri": "https://localhost:8080/",
          "height": 282
        }
      },
      "source": [
        "image, label = dataset[10]\n",
        "plt.imshow(image, cmap='gray')\n",
        "print('Label:', label)"
      ],
      "execution_count": 32,
      "outputs": [
        {
          "output_type": "stream",
          "text": [
            "Label: 3\n"
          ],
          "name": "stdout"
        },
        {
          "output_type": "display_data",
          "data": {
            "image/png": "[encoded data removed]",
            "text/plain": [
              "<Figure size 432x288 with 1 Axes>"
            ]
          },
          "metadata": {
            "tags": [],
            "needs_background": "light"
          }
        }
      ]
    },
    {
      "cell_type": "markdown",
      "metadata": {
        "id": "Te9osW2R09cS",
        "colab_type": "text"
      },
      "source": [
        "It's evident that these images are quite small in size, and recognizing the digits can sometimes be hard even for the human eye. While it's useful to look at these images, there's just one problem here: PyTorch doesn't know how to work with images. We need to convert the images into tensors. We can do this by specifying a transform while creating our dataset."
      ]
    },
    {
      "cell_type": "code",
      "metadata": {
        "id": "gANVj1YC09cT",
        "colab_type": "code",
        "colab": {}
      },
      "source": [
        "import torchvision.transforms as transforms"
      ],
      "execution_count": 0,
      "outputs": []
    },
    {
      "cell_type": "markdown",
      "metadata": {
        "id": "sWbdjJu709cY",
        "colab_type": "text"
      },
      "source": [
        "PyTorch datasets allow us to specify one or more transformation functions which are applied to the images as they are loaded. `torchvision.transforms` contains many such predefined functions, and we'll use the `ToTensor` transform to convert images into PyTorch tensors."
      ]
    },
    {
      "cell_type": "code",
      "metadata": {
        "id": "GAh0qCk-09cZ",
        "colab_type": "code",
        "colab": {}
      },
      "source": [
        "# MNIST dataset (images and labels)\n",
        "dataset = MNIST(root='data/', \n",
        "                train=True,\n",
        "                transform=transforms.ToTensor())"
      ],
      "execution_count": 0,
      "outputs": []
    },
    {
      "cell_type": "code",
      "metadata": {
        "id": "abV_B2Iv09ci",
        "colab_type": "code",
        "outputId": "1f57e46d-adab-4da2-d041-cb48e1b3d221",
        "colab": {
          "base_uri": "https://localhost:8080/",
          "height": 34
        }
      },
      "source": [
        "img_tensor, label = dataset[0]\n",
        "print(img_tensor.shape, label)"
      ],
      "execution_count": 35,
      "outputs": [
        {
          "output_type": "stream",
          "text": [
            "torch.Size([1, 28, 28]) 5\n"
          ],
          "name": "stdout"
        }
      ]
    },
    {
      "cell_type": "markdown",
      "metadata": {
        "id": "-jXNwJLx09cq",
        "colab_type": "text"
      },
      "source": [
        "The image is now converted to a 1x28x28 tensor. The first dimension is used to keep track of the color channels. Since images in the MNIST dataset are grayscale, there's just one channel. Other datasets have images with color, in which case there are 3 channels: red, green and blue (RGB). Let's look at some sample values inside the tensor:"
      ]
    },
    {
      "cell_type": "code",
      "metadata": {
        "id": "f2HCR6LW09cr",
        "colab_type": "code",
        "outputId": "536bf63b-5ab5-4bbd-ab44-f7b1aa0ae181",
        "colab": {
          "base_uri": "https://localhost:8080/",
          "height": 121
        }
      },
      "source": [
        "print(img_tensor[:,10:15,10:15])\n",
        "print(torch.max(img_tensor), torch.min(img_tensor))"
      ],
      "execution_count": 36,
      "outputs": [
        {
          "output_type": "stream",
          "text": [
            "tensor([[[0.0039, 0.6039, 0.9922, 0.3529, 0.0000],\n",
            "         [0.0000, 0.5451, 0.9922, 0.7451, 0.0078],\n",
            "         [0.0000, 0.0431, 0.7451, 0.9922, 0.2745],\n",
            "         [0.0000, 0.0000, 0.1373, 0.9451, 0.8824],\n",
            "         [0.0000, 0.0000, 0.0000, 0.3176, 0.9412]]])\n",
            "tensor(1.) tensor(0.)\n"
          ],
          "name": "stdout"
        }
      ]
    },
    {
      "cell_type": "markdown",
      "metadata": {
        "id": "_oAsOzSk09cz",
        "colab_type": "text"
      },
      "source": [
        "The values range from 0 to 1, with 0 representing black, 1 white and the values in between different shades of grey. We can also plot the tensor as an image using `plt.imshow`."
      ]
    },
    {
      "cell_type": "code",
      "metadata": {
        "id": "6lJ-Jlum09c0",
        "colab_type": "code",
        "outputId": "9d889448-2b35-425a-902b-5524f879ffbb",
        "colab": {
          "base_uri": "https://localhost:8080/",
          "height": 265
        }
      },
      "source": [
        "# Plot the image by passing in the 28x28 matrix\n",
        "plt.imshow(img_tensor[0,10:15,10:15], cmap='gray');"
      ],
      "execution_count": 37,
      "outputs": [
        {
          "output_type": "display_data",
          "data": {
            "image/png": "[encoded data removed]",
            "text/plain": [
              "<Figure size 432x288 with 1 Axes>"
            ]
          },
          "metadata": {
            "tags": [],
            "needs_background": "light"
          }
        }
      ]
    },
    {
      "cell_type": "markdown",
      "metadata": {
        "id": "T4Q4cYGU09c8",
        "colab_type": "text"
      },
      "source": [
        "Note that we need to pass just the 28x28 matrix to `plt.imshow`, without a channel dimension. We also pass a color map (`cmap=gray`) to indicate that we want to see a grayscale image."
      ]
    },
    {
      "cell_type": "markdown",
      "metadata": {
        "id": "rzwhMSoj09c_",
        "colab_type": "text"
      },
      "source": [
        "## Training and Validation Datasets\n",
        "\n",
        "While building real world machine learning models, it is quite common to split the dataset into 3 parts:\n",
        "\n",
        "1. **Training set** - used to train the model i.e. compute the loss and adjust the weights of the model using gradient descent.\n",
        "2. **Validation set** - used to evaluate the model while training, adjust hyperparameters (learning rate etc.) and pick the best version of the model.\n",
        "3. **Test set** - used to compare different models, or different types of modeling approaches, and report the final accuracy of the model.\n",
        "\n",
        "In the MNIST dataset, there are 60,000 training images, and 10,000 test images. The test set is standardized so that different researchers can report the results of their models against the same set of images. \n",
        "\n",
        "Since there's no predefined validation set, we must manually split the 60,000 images into training and validation datasets. Let's set aside 10,000 randomly chosen images for validation. We can do this using the `random_spilt` method from PyTorch."
      ]
    },
    {
      "cell_type": "code",
      "metadata": {
        "id": "vBdkNWlF09dB",
        "colab_type": "code",
        "outputId": "f0069ce5-f8c5-4bbe-fb44-3cee3336b9bc",
        "colab": {
          "base_uri": "https://localhost:8080/",
          "height": 34
        }
      },
      "source": [
        "from torch.utils.data import random_split\n",
        "\n",
        "train_ds, val_ds = random_split(dataset, [50000, 10000])\n",
        "len(train_ds), len(val_ds)"
      ],
      "execution_count": 38,
      "outputs": [
        {
          "output_type": "execute_result",
          "data": {
            "text/plain": [
              "(50000, 10000)"
            ]
          },
          "metadata": {
            "tags": []
          },
          "execution_count": 38
        }
      ]
    },
    {
      "cell_type": "markdown",
      "metadata": {
        "id": "l8dEZArU09dI",
        "colab_type": "text"
      },
      "source": [
        "It's important to choose a random sample for creating a validation set, because training data is often ordered by the target labels i.e. images of 0s, followed by images of 1s, followed by images of 2s and so on. If we were to pick a 20% validation set simply by selecting the last 20% of the images, the validation set would only consist of images of 8s and 9s, whereas the training set would contain no images of 8s and 9s. This would make it impossible to train a good model using the training set, which also performs well on the validation set (and on real world data).\n",
        "\n",
        "We can now created data loaders to help us load the data in batches. We'll use a batch size of 128."
      ]
    },
    {
      "cell_type": "code",
      "metadata": {
        "id": "zFHpU7mY09dK",
        "colab_type": "code",
        "colab": {}
      },
      "source": [
        "from torch.utils.data import DataLoader\n",
        "\n",
        "batch_size = 128\n",
        "\n",
        "train_loader = DataLoader(train_ds, batch_size, shuffle=True)\n",
        "val_loader = DataLoader(val_ds, batch_size)"
      ],
      "execution_count": 0,
      "outputs": []
    },
    {
      "cell_type": "markdown",
      "metadata": {
        "id": "qHHnbwST09dQ",
        "colab_type": "text"
      },
      "source": [
        "We set `shuffle=True` for the training dataloader, so that the batches generated in each epoch are different, and this randomization helps generalize & speed up the training process. On the other hand, since the validation dataloader is used only for evaluating the model, there is no need to shuffle the images. \n"
      ]
    },
    {
      "cell_type": "markdown",
      "metadata": {
        "id": "rGasJC3m09de",
        "colab_type": "text"
      },
      "source": [
        "## Model\n",
        "\n",
        "Now that we have prepared our data loaders, we can define our model.\n",
        "\n",
        "* A **logistic regression** model is almost identical to a linear regression model i.e. there are weights and bias matrices, and the output is obtained using simple matrix operations (`pred = x @ w.t() + b`). \n",
        "\n",
        "* Just as we did with linear regression, we can use `nn.Linear` to create the model instead of defining and initializing the matrices manually.\n",
        "\n",
        "* Since `nn.Linear` expects the each training example to be a vector, each `1x28x28` image tensor needs to be flattened out into a vector of size 784 (`28*28`), before being passed into the model. \n",
        "\n",
        "* The output for each image is vector of size 10, with each element of the vector signifying the probability a particular target label (i.e. 0 to 9). The predicted label for an image is simply the one with the highest probability."
      ]
    },
    {
      "cell_type": "code",
      "metadata": {
        "id": "Ov2pB7yW09dg",
        "colab_type": "code",
        "colab": {}
      },
      "source": [
        "import torch.nn as nn\n",
        "\n",
        "input_size = 28*28\n",
        "num_classes = 10\n",
        "\n",
        "# Logistic regression model\n",
        "model = nn.Linear(input_size, num_classes)"
      ],
      "execution_count": 0,
      "outputs": []
    },
    {
      "cell_type": "markdown",
      "metadata": {
        "id": "4N9Bn2gD09dl",
        "colab_type": "text"
      },
      "source": [
        "Of course, this model is a lot larger than our previous model, in terms of the number of parameters. Let's take a look at the weights and biases."
      ]
    },
    {
      "cell_type": "code",
      "metadata": {
        "id": "9R_LSfcb09dl",
        "colab_type": "code",
        "outputId": "9e8db5f1-9a62-4b19-b5bd-f23cc487da62",
        "colab": {
          "base_uri": "https://localhost:8080/",
          "height": 190
        }
      },
      "source": [
        "print(model.weight.shape)\n",
        "model.weight"
      ],
      "execution_count": 41,
      "outputs": [
        {
          "output_type": "stream",
          "text": [
            "torch.Size([10, 784])\n"
          ],
          "name": "stdout"
        },
        {
          "output_type": "execute_result",
          "data": {
            "text/plain": [
              "Parameter containing:\n",
              "tensor([[-0.0051,  0.0246, -0.0251,  ..., -0.0068, -0.0221, -0.0336],\n",
              "        [-0.0108, -0.0330, -0.0307,  ...,  0.0095,  0.0072,  0.0318],\n",
              "        [ 0.0325, -0.0212,  0.0205,  ..., -0.0135, -0.0038, -0.0045],\n",
              "        ...,\n",
              "        [-0.0301,  0.0338, -0.0120,  ..., -0.0250,  0.0112, -0.0098],\n",
              "        [ 0.0117, -0.0191,  0.0170,  ...,  0.0307, -0.0246, -0.0122],\n",
              "        [-0.0172, -0.0250,  0.0042,  ..., -0.0086, -0.0173,  0.0096]],\n",
              "       requires_grad=True)"
            ]
          },
          "metadata": {
            "tags": []
          },
          "execution_count": 41
        }
      ]
    },
    {
      "cell_type": "code",
      "metadata": {
        "id": "H9dd0w2g09dr",
        "colab_type": "code",
        "outputId": "4b293224-c588-460f-a161-23fea2dbf3fc",
        "colab": {
          "base_uri": "https://localhost:8080/",
          "height": 86
        }
      },
      "source": [
        "print(model.bias.shape)\n",
        "model.bias"
      ],
      "execution_count": 42,
      "outputs": [
        {
          "output_type": "stream",
          "text": [
            "torch.Size([10])\n"
          ],
          "name": "stdout"
        },
        {
          "output_type": "execute_result",
          "data": {
            "text/plain": [
              "Parameter containing:\n",
              "tensor([ 0.0311, -0.0295, -0.0111,  0.0323, -0.0166, -0.0026,  0.0095,  0.0237,\n",
              "         0.0067, -0.0281], requires_grad=True)"
            ]
          },
          "metadata": {
            "tags": []
          },
          "execution_count": 42
        }
      ]
    },
    {
      "cell_type": "markdown",
      "metadata": {
        "id": "1-0kJU3s09dw",
        "colab_type": "text"
      },
      "source": [
        "Although there are a total of 7850 parameters here, conceptually nothing has changed so far. Let's try and generate some outputs using our model. We'll take the first batch of 100 images from our dataset, and pass them into our model."
      ]
    },
    {
      "cell_type": "code",
      "metadata": {
        "id": "60fAgqeq09dx",
        "colab_type": "code",
        "outputId": "1ac3afd1-3ebf-4039-e068-84ad19133752",
        "colab": {
          "base_uri": "https://localhost:8080/",
          "height": 484
        }
      },
      "source": [
        "for images, labels in train_loader:\n",
        "    print(labels)\n",
        "    print(images.shape)\n",
        "    outputs = model(images)\n",
        "    break"
      ],
      "execution_count": 43,
      "outputs": [
        {
          "output_type": "stream",
          "text": [
            "tensor([0, 1, 5, 4, 6, 0, 6, 5, 8, 0, 4, 5, 8, 5, 9, 7, 9, 7, 6, 3, 0, 4, 0, 2,\n",
            "        1, 1, 3, 4, 4, 4, 8, 3, 6, 4, 7, 5, 3, 5, 0, 7, 3, 9, 3, 6, 5, 8, 4, 0,\n",
            "        9, 2, 4, 6, 3, 9, 1, 6, 7, 9, 0, 8, 7, 2, 1, 5, 4, 2, 7, 8, 7, 3, 5, 2,\n",
            "        1, 0, 0, 2, 0, 3, 7, 8, 8, 4, 4, 8, 4, 3, 3, 5, 7, 2, 5, 0, 4, 8, 8, 5,\n",
            "        0, 6, 4, 1, 8, 8, 2, 8, 6, 2, 4, 3, 3, 4, 5, 4, 8, 6, 4, 3, 1, 7, 0, 7,\n",
            "        1, 4, 1, 2, 9, 3, 5, 5])\n",
            "torch.Size([128, 1, 28, 28])\n"
          ],
          "name": "stdout"
        },
        {
          "output_type": "error",
          "ename": "RuntimeError",
          "evalue": "ignored",
          "traceback": [
            "\u001b[0;31m---------------------------------------------------------------------------\u001b[0m",
            "\u001b[0;31mRuntimeError\u001b[0m                              Traceback (most recent call last)",
            "\u001b[0;32m<ipython-input-43-72eddc737460>\u001b[0m in \u001b[0;36m<module>\u001b[0;34m()\u001b[0m\n\u001b[1;32m      2\u001b[0m     \u001b[0mprint\u001b[0m\u001b[0;34m(\u001b[0m\u001b[0mlabels\u001b[0m\u001b[0;34m)\u001b[0m\u001b[0;34m\u001b[0m\u001b[0;34m\u001b[0m\u001b[0m\n\u001b[1;32m      3\u001b[0m     \u001b[0mprint\u001b[0m\u001b[0;34m(\u001b[0m\u001b[0mimages\u001b[0m\u001b[0;34m.\u001b[0m\u001b[0mshape\u001b[0m\u001b[0;34m)\u001b[0m\u001b[0;34m\u001b[0m\u001b[0;34m\u001b[0m\u001b[0m\n\u001b[0;32m----> 4\u001b[0;31m     \u001b[0moutputs\u001b[0m \u001b[0;34m=\u001b[0m \u001b[0mmodel\u001b[0m\u001b[0;34m(\u001b[0m\u001b[0mimages\u001b[0m\u001b[0;34m)\u001b[0m\u001b[0;34m\u001b[0m\u001b[0;34m\u001b[0m\u001b[0m\n\u001b[0m\u001b[1;32m      5\u001b[0m     \u001b[0;32mbreak\u001b[0m\u001b[0;34m\u001b[0m\u001b[0;34m\u001b[0m\u001b[0m\n",
            "\u001b[0;32m/usr/local/lib/python3.6/dist-packages/torch/nn/modules/module.py\u001b[0m in \u001b[0;36m__call__\u001b[0;34m(self, *input, **kwargs)\u001b[0m\n\u001b[1;32m    548\u001b[0m             \u001b[0mresult\u001b[0m \u001b[0;34m=\u001b[0m \u001b[0mself\u001b[0m\u001b[0;34m.\u001b[0m\u001b[0m_slow_forward\u001b[0m\u001b[0;34m(\u001b[0m\u001b[0;34m*\u001b[0m\u001b[0minput\u001b[0m\u001b[0;34m,\u001b[0m \u001b[0;34m**\u001b[0m\u001b[0mkwargs\u001b[0m\u001b[0;34m)\u001b[0m\u001b[0;34m\u001b[0m\u001b[0;34m\u001b[0m\u001b[0m\n\u001b[1;32m    549\u001b[0m         \u001b[0;32melse\u001b[0m\u001b[0;34m:\u001b[0m\u001b[0;34m\u001b[0m\u001b[0;34m\u001b[0m\u001b[0m\n\u001b[0;32m--> 550\u001b[0;31m             \u001b[0mresult\u001b[0m \u001b[0;34m=\u001b[0m \u001b[0mself\u001b[0m\u001b[0;34m.\u001b[0m\u001b[0mforward\u001b[0m\u001b[0;34m(\u001b[0m\u001b[0;34m*\u001b[0m\u001b[0minput\u001b[0m\u001b[0;34m,\u001b[0m \u001b[0;34m**\u001b[0m\u001b[0mkwargs\u001b[0m\u001b[0;34m)\u001b[0m\u001b[0;34m\u001b[0m\u001b[0;34m\u001b[0m\u001b[0m\n\u001b[0m\u001b[1;32m    551\u001b[0m         \u001b[0;32mfor\u001b[0m \u001b[0mhook\u001b[0m \u001b[0;32min\u001b[0m \u001b[0mself\u001b[0m\u001b[0;34m.\u001b[0m\u001b[0m_forward_hooks\u001b[0m\u001b[0;34m.\u001b[0m\u001b[0mvalues\u001b[0m\u001b[0;34m(\u001b[0m\u001b[0;34m)\u001b[0m\u001b[0;34m:\u001b[0m\u001b[0;34m\u001b[0m\u001b[0;34m\u001b[0m\u001b[0m\n\u001b[1;32m    552\u001b[0m             \u001b[0mhook_result\u001b[0m \u001b[0;34m=\u001b[0m \u001b[0mhook\u001b[0m\u001b[0;34m(\u001b[0m\u001b[0mself\u001b[0m\u001b[0;34m,\u001b[0m \u001b[0minput\u001b[0m\u001b[0;34m,\u001b[0m \u001b[0mresult\u001b[0m\u001b[0;34m)\u001b[0m\u001b[0;34m\u001b[0m\u001b[0;34m\u001b[0m\u001b[0m\n",
            "\u001b[0;32m/usr/local/lib/python3.6/dist-packages/torch/nn/modules/linear.py\u001b[0m in \u001b[0;36mforward\u001b[0;34m(self, input)\u001b[0m\n\u001b[1;32m     85\u001b[0m \u001b[0;34m\u001b[0m\u001b[0m\n\u001b[1;32m     86\u001b[0m     \u001b[0;32mdef\u001b[0m \u001b[0mforward\u001b[0m\u001b[0;34m(\u001b[0m\u001b[0mself\u001b[0m\u001b[0;34m,\u001b[0m \u001b[0minput\u001b[0m\u001b[0;34m)\u001b[0m\u001b[0;34m:\u001b[0m\u001b[0;34m\u001b[0m\u001b[0;34m\u001b[0m\u001b[0m\n\u001b[0;32m---> 87\u001b[0;31m         \u001b[0;32mreturn\u001b[0m \u001b[0mF\u001b[0m\u001b[0;34m.\u001b[0m\u001b[0mlinear\u001b[0m\u001b[0;34m(\u001b[0m\u001b[0minput\u001b[0m\u001b[0;34m,\u001b[0m \u001b[0mself\u001b[0m\u001b[0;34m.\u001b[0m\u001b[0mweight\u001b[0m\u001b[0;34m,\u001b[0m \u001b[0mself\u001b[0m\u001b[0;34m.\u001b[0m\u001b[0mbias\u001b[0m\u001b[0;34m)\u001b[0m\u001b[0;34m\u001b[0m\u001b[0;34m\u001b[0m\u001b[0m\n\u001b[0m\u001b[1;32m     88\u001b[0m \u001b[0;34m\u001b[0m\u001b[0m\n\u001b[1;32m     89\u001b[0m     \u001b[0;32mdef\u001b[0m \u001b[0mextra_repr\u001b[0m\u001b[0;34m(\u001b[0m\u001b[0mself\u001b[0m\u001b[0;34m)\u001b[0m\u001b[0;34m:\u001b[0m\u001b[0;34m\u001b[0m\u001b[0;34m\u001b[0m\u001b[0m\n",
            "\u001b[0;32m/usr/local/lib/python3.6/dist-packages/torch/nn/functional.py\u001b[0m in \u001b[0;36mlinear\u001b[0;34m(input, weight, bias)\u001b[0m\n\u001b[1;32m   1610\u001b[0m         \u001b[0mret\u001b[0m \u001b[0;34m=\u001b[0m \u001b[0mtorch\u001b[0m\u001b[0;34m.\u001b[0m\u001b[0maddmm\u001b[0m\u001b[0;34m(\u001b[0m\u001b[0mbias\u001b[0m\u001b[0;34m,\u001b[0m \u001b[0minput\u001b[0m\u001b[0;34m,\u001b[0m \u001b[0mweight\u001b[0m\u001b[0;34m.\u001b[0m\u001b[0mt\u001b[0m\u001b[0;34m(\u001b[0m\u001b[0;34m)\u001b[0m\u001b[0;34m)\u001b[0m\u001b[0;34m\u001b[0m\u001b[0;34m\u001b[0m\u001b[0m\n\u001b[1;32m   1611\u001b[0m     \u001b[0;32melse\u001b[0m\u001b[0;34m:\u001b[0m\u001b[0;34m\u001b[0m\u001b[0;34m\u001b[0m\u001b[0m\n\u001b[0;32m-> 1612\u001b[0;31m         \u001b[0moutput\u001b[0m \u001b[0;34m=\u001b[0m \u001b[0minput\u001b[0m\u001b[0;34m.\u001b[0m\u001b[0mmatmul\u001b[0m\u001b[0;34m(\u001b[0m\u001b[0mweight\u001b[0m\u001b[0;34m.\u001b[0m\u001b[0mt\u001b[0m\u001b[0;34m(\u001b[0m\u001b[0;34m)\u001b[0m\u001b[0;34m)\u001b[0m\u001b[0;34m\u001b[0m\u001b[0;34m\u001b[0m\u001b[0m\n\u001b[0m\u001b[1;32m   1613\u001b[0m         \u001b[0;32mif\u001b[0m \u001b[0mbias\u001b[0m \u001b[0;32mis\u001b[0m \u001b[0;32mnot\u001b[0m \u001b[0;32mNone\u001b[0m\u001b[0;34m:\u001b[0m\u001b[0;34m\u001b[0m\u001b[0;34m\u001b[0m\u001b[0m\n\u001b[1;32m   1614\u001b[0m             \u001b[0moutput\u001b[0m \u001b[0;34m+=\u001b[0m \u001b[0mbias\u001b[0m\u001b[0;34m\u001b[0m\u001b[0;34m\u001b[0m\u001b[0m\n",
            "\u001b[0;31mRuntimeError\u001b[0m: size mismatch, m1: [3584 x 28], m2: [784 x 10] at /pytorch/aten/src/TH/generic/THTensorMath.cpp:41"
          ]
        }
      ]
    },
    {
      "cell_type": "markdown",
      "metadata": {
        "id": "QJQy7Rhr09d3",
        "colab_type": "text"
      },
      "source": [
        "This leads to an error, because our input data does not have the right shape. Our images are of the shape 1x28x28, but we need them to be vectors of size 784 i.e. we need to flatten them out. We'll use the `.reshape` method of a tensor, which will allow us to efficiently 'view' each image as a flat vector, without really chaging the underlying data.\n",
        "\n",
        "To include this additional functionality within our model, we need to define a custom model, by extending the `nn.Module` class from PyTorch."
      ]
    },
    {
      "cell_type": "code",
      "metadata": {
        "id": "IFY0hvjT09d3",
        "colab_type": "code",
        "colab": {}
      },
      "source": [
        "class MnistModel(nn.Module):\n",
        "    def __init__(self):\n",
        "        super().__init__()\n",
        "        self.linear = nn.Linear(input_size, num_classes)\n",
        "        \n",
        "    def forward(self, xb):\n",
        "        xb = xb.reshape(-1, 784)\n",
        "        out = self.linear(xb)\n",
        "        return out\n",
        "    \n",
        "model = MnistModel()"
      ],
      "execution_count": 0,
      "outputs": []
    },
    {
      "cell_type": "markdown",
      "metadata": {
        "id": "eP6Ub5ur09d6",
        "colab_type": "text"
      },
      "source": [
        "Inside the `__init__` constructor method, we instantiate the weights and biases using `nn.Linear`. And inside the `forward` method, which is invoked when we pass a batch of inputs to the model, we flatten out the input tensor, and then pass it into `self.linear`.\n",
        "\n",
        "`xb.reshape(-1, 28*28)` indicates to PyTorch that we want a *view* of the `xb` tensor with two dimensions, where the length along the 2nd dimension is 28\\*28 (i.e. 784). One argument to `.reshape` can be set to `-1` (in this case the first dimension), to let PyTorch figure it out automatically based on the shape of the original tensor.\n",
        "\n",
        "Note that the model no longer has `.weight` and `.bias` attributes (as they are now inside the `.linear` attribute), but it does have a `.parameters` method which returns a list containing the weights and bias, and can be used by a PyTorch optimizer."
      ]
    },
    {
      "cell_type": "code",
      "metadata": {
        "id": "bq4qp8x909d7",
        "colab_type": "code",
        "outputId": "02f911ff-dc8f-46d1-c545-cd6b3965ca85",
        "colab": {
          "base_uri": "https://localhost:8080/",
          "height": 224
        }
      },
      "source": [
        "print(model.linear.weight.shape, model.linear.bias.shape)\n",
        "list(model.parameters())"
      ],
      "execution_count": 45,
      "outputs": [
        {
          "output_type": "stream",
          "text": [
            "torch.Size([10, 784]) torch.Size([10])\n"
          ],
          "name": "stdout"
        },
        {
          "output_type": "execute_result",
          "data": {
            "text/plain": [
              "[Parameter containing:\n",
              " tensor([[ 0.0157, -0.0198,  0.0248,  ...,  0.0212, -0.0060,  0.0032],\n",
              "         [ 0.0200,  0.0165,  0.0305,  ..., -0.0110, -0.0281,  0.0259],\n",
              "         [ 0.0251,  0.0056, -0.0114,  ..., -0.0133,  0.0211,  0.0094],\n",
              "         ...,\n",
              "         [ 0.0317, -0.0324,  0.0345,  ...,  0.0323,  0.0047, -0.0336],\n",
              "         [ 0.0086,  0.0131, -0.0180,  ..., -0.0053, -0.0145, -0.0063],\n",
              "         [-0.0255, -0.0085, -0.0198,  ..., -0.0077, -0.0277,  0.0223]],\n",
              "        requires_grad=True), Parameter containing:\n",
              " tensor([-0.0328,  0.0268, -0.0283, -0.0197,  0.0301,  0.0293, -0.0021,  0.0173,\n",
              "          0.0225,  0.0143], requires_grad=True)]"
            ]
          },
          "metadata": {
            "tags": []
          },
          "execution_count": 45
        }
      ]
    },
    {
      "cell_type": "markdown",
      "metadata": {
        "id": "Cea0kvOV09d_",
        "colab_type": "text"
      },
      "source": [
        "Our new custom model can be used in the exact same way as before. Let's see if it works."
      ]
    },
    {
      "cell_type": "code",
      "metadata": {
        "id": "ildyBBgJ09eA",
        "colab_type": "code",
        "outputId": "8516ffd6-a588-4af3-cf3e-806c4dbfe806",
        "colab": {
          "base_uri": "https://localhost:8080/",
          "height": 121
        }
      },
      "source": [
        "for images, labels in train_loader:\n",
        "    outputs = model(images)\n",
        "    break\n",
        "\n",
        "print('outputs.shape : ', outputs.shape)\n",
        "print('Sample outputs :\\n', outputs[:2].data)"
      ],
      "execution_count": 46,
      "outputs": [
        {
          "output_type": "stream",
          "text": [
            "outputs.shape :  torch.Size([128, 10])\n",
            "Sample outputs :\n",
            " tensor([[ 0.2282, -0.1137, -0.2019, -0.0486,  0.0642,  0.0152,  0.1148,  0.1142,\n",
            "         -0.0880, -0.2159],\n",
            "        [ 0.1377,  0.0047, -0.1526,  0.0016, -0.0564, -0.2136,  0.1815, -0.0059,\n",
            "          0.0696,  0.0354]])\n"
          ],
          "name": "stdout"
        }
      ]
    },
    {
      "cell_type": "markdown",
      "metadata": {
        "id": "756PItOg09eI",
        "colab_type": "text"
      },
      "source": [
        "For each of the 100 input images, we get 10 outputs, one for each class. As discussed earlier, we'd like these outputs to represent probabilities, but for that the elements of each output row must lie between 0 to 1 and add up to 1, which is clearly not the case here. \n",
        "\n",
        "To convert the output rows into probabilities, we use the softmax function, which has the following formula:\n",
        "\n",
        "![softmax](https://i.imgur.com/EAh9jLN.png)\n",
        "\n",
        "First we replace each element `yi` in an output row by `e^yi`, which makes all the elements positive, and then we divide each element by the sum of all elements to ensure that they add up to 1. \n",
        "\n",
        "While it's easy to implement the softmax function (you should try it!), we'll use the implementation that's provided within PyTorch, because it works well with multidimensional tensors (a list of output rows in our case)."
      ]
    },
    {
      "cell_type": "code",
      "metadata": {
        "id": "pWxpP7Tn09eM",
        "colab_type": "code",
        "colab": {}
      },
      "source": [
        "import torch.nn.functional as F"
      ],
      "execution_count": 0,
      "outputs": []
    },
    {
      "cell_type": "markdown",
      "metadata": {
        "id": "Lhp8_wgD09eT",
        "colab_type": "text"
      },
      "source": [
        "The softmax function is included in the `torch.nn.functional` package, and requires us to specify a dimension along which the softmax must be applied."
      ]
    },
    {
      "cell_type": "code",
      "metadata": {
        "id": "qrAbdy8909eT",
        "colab_type": "code",
        "outputId": "edbfd185-eb20-48cc-dd9d-dede7b2603f7",
        "colab": {
          "base_uri": "https://localhost:8080/",
          "height": 121
        }
      },
      "source": [
        "# Apply softmax for each output row\n",
        "probs = F.softmax(outputs, dim=1)\n",
        "\n",
        "# Look at sample probabilities\n",
        "print(\"Sample probabilities:\\n\", probs[:2].data)\n",
        "\n",
        "# Add up the probabilities of an output row\n",
        "print(\"Sum: \", torch.sum(probs[0]).item())"
      ],
      "execution_count": 48,
      "outputs": [
        {
          "output_type": "stream",
          "text": [
            "Sample probabilities:\n",
            " tensor([[0.1261, 0.0896, 0.0820, 0.0956, 0.1070, 0.1019, 0.1126, 0.1125, 0.0919,\n",
            "         0.0809],\n",
            "        [0.1140, 0.0998, 0.0853, 0.0995, 0.0939, 0.0802, 0.1191, 0.0988, 0.1065,\n",
            "         0.1029]])\n",
            "Sum:  1.0\n"
          ],
          "name": "stdout"
        }
      ]
    },
    {
      "cell_type": "markdown",
      "metadata": {
        "id": "p7gKcvCk09eZ",
        "colab_type": "text"
      },
      "source": [
        "Finally, we can determine the predicted label for each image by simply choosing the index of the element with the highest probability in each output row. This is done using `torch.max`, which returns the largest element and the index of the largest element along a particular dimension of a tensor."
      ]
    },
    {
      "cell_type": "code",
      "metadata": {
        "id": "rhNYC21709eZ",
        "colab_type": "code",
        "outputId": "aff96baf-df81-473e-82d1-9f9b43289bd4",
        "colab": {
          "base_uri": "https://localhost:8080/",
          "height": 380
        }
      },
      "source": [
        "max_probs, preds = torch.max(probs, dim=1)\n",
        "print(preds)\n",
        "print(max_probs)"
      ],
      "execution_count": 49,
      "outputs": [
        {
          "output_type": "stream",
          "text": [
            "tensor([0, 6, 7, 6, 7, 5, 4, 3, 7, 6, 7, 4, 9, 8, 6, 6, 0, 3, 8, 8, 8, 4, 8, 0,\n",
            "        6, 7, 6, 0, 9, 5, 0, 4, 7, 0, 0, 6, 8, 7, 3, 6, 7, 7, 6, 4, 4, 8, 0, 0,\n",
            "        6, 4, 0, 9, 0, 0, 8, 6, 4, 7, 3, 4, 6, 4, 6, 9, 6, 8, 6, 7, 8, 6, 9, 6,\n",
            "        9, 7, 9, 8, 0, 5, 8, 6, 4, 4, 4, 5, 6, 0, 6, 4, 0, 4, 5, 6, 7, 4, 6, 0,\n",
            "        5, 0, 0, 7, 0, 5, 6, 3, 9, 6, 6, 6, 6, 6, 3, 0, 3, 4, 6, 8, 0, 8, 4, 6,\n",
            "        7, 5, 7, 6, 4, 6, 0, 6])\n",
            "tensor([0.1261, 0.1191, 0.1306, 0.1351, 0.1383, 0.1310, 0.1377, 0.1163, 0.1351,\n",
            "        0.1297, 0.1457, 0.1256, 0.1243, 0.1237, 0.1325, 0.1264, 0.1142, 0.1260,\n",
            "        0.1233, 0.1201, 0.1321, 0.1392, 0.1158, 0.1300, 0.1295, 0.1184, 0.1183,\n",
            "        0.1131, 0.1297, 0.1169, 0.1325, 0.1201, 0.1429, 0.1242, 0.1419, 0.1489,\n",
            "        0.1387, 0.1268, 0.1431, 0.1153, 0.1295, 0.1164, 0.1374, 0.1139, 0.1289,\n",
            "        0.1163, 0.1167, 0.1330, 0.1345, 0.1324, 0.1233, 0.1122, 0.1398, 0.1356,\n",
            "        0.1406, 0.1292, 0.1281, 0.1232, 0.1182, 0.1248, 0.1235, 0.1330, 0.1140,\n",
            "        0.1188, 0.1471, 0.1161, 0.1406, 0.1211, 0.1216, 0.1513, 0.1158, 0.1226,\n",
            "        0.1244, 0.1390, 0.1130, 0.1260, 0.1362, 0.1151, 0.1273, 0.1190, 0.1281,\n",
            "        0.1396, 0.1403, 0.1429, 0.1371, 0.1324, 0.1314, 0.1202, 0.1418, 0.1448,\n",
            "        0.1365, 0.1124, 0.1318, 0.1227, 0.1285, 0.1205, 0.1147, 0.1370, 0.1242,\n",
            "        0.1345, 0.1519, 0.1142, 0.1341, 0.1493, 0.1163, 0.1310, 0.1216, 0.1299,\n",
            "        0.1319, 0.1432, 0.1352, 0.1508, 0.1139, 0.1185, 0.1249, 0.1163, 0.1380,\n",
            "        0.1117, 0.1308, 0.1479, 0.1354, 0.1337, 0.1272, 0.1241, 0.1265, 0.1288,\n",
            "        0.1264, 0.1261], grad_fn=<MaxBackward0>)\n"
          ],
          "name": "stdout"
        }
      ]
    },
    {
      "cell_type": "markdown",
      "metadata": {
        "id": "RQ46XQpl09ed",
        "colab_type": "text"
      },
      "source": [
        "The numbers printed above are the predicted labels for the first batch of training images. Let's compare them with the actual labels."
      ]
    },
    {
      "cell_type": "code",
      "metadata": {
        "id": "liDUS1MT09eq",
        "colab_type": "code",
        "outputId": "6bfe6a7d-85e1-47d4-ceae-aca5dea03e5b",
        "colab": {
          "base_uri": "https://localhost:8080/",
          "height": 121
        }
      },
      "source": [
        "labels"
      ],
      "execution_count": 50,
      "outputs": [
        {
          "output_type": "execute_result",
          "data": {
            "text/plain": [
              "tensor([0, 9, 1, 7, 6, 2, 2, 7, 3, 2, 3, 3, 1, 1, 0, 0, 2, 7, 2, 5, 8, 4, 1, 4,\n",
              "        2, 1, 3, 4, 5, 9, 6, 8, 9, 4, 0, 6, 8, 2, 3, 1, 5, 4, 4, 8, 6, 8, 9, 1,\n",
              "        7, 2, 1, 3, 5, 6, 2, 1, 3, 1, 3, 3, 7, 2, 7, 0, 0, 9, 0, 5, 1, 7, 3, 7,\n",
              "        7, 0, 9, 1, 0, 9, 1, 8, 8, 0, 8, 5, 0, 7, 7, 8, 4, 4, 5, 4, 9, 7, 2, 7,\n",
              "        1, 2, 9, 3, 6, 1, 7, 0, 8, 0, 8, 2, 0, 0, 2, 3, 1, 6, 7, 0, 6, 1, 2, 2,\n",
              "        8, 4, 1, 2, 6, 0, 5, 2])"
            ]
          },
          "metadata": {
            "tags": []
          },
          "execution_count": 50
        }
      ]
    },
    {
      "cell_type": "markdown",
      "metadata": {
        "id": "3jpW6bBK09ev",
        "colab_type": "text"
      },
      "source": [
        "Clearly, the predicted and the actual labels are completely different. Obviously, that's because we have started with randomly initialized weights and biases. We need to train the model i.e. adjust the weights using gradient descent to make better predictions."
      ]
    },
    {
      "cell_type": "markdown",
      "metadata": {
        "id": "dG_xHsn_09ev",
        "colab_type": "text"
      },
      "source": [
        "## Evaluation Metric and Loss Function"
      ]
    },
    {
      "cell_type": "markdown",
      "metadata": {
        "id": "fm1E-Amf09ew",
        "colab_type": "text"
      },
      "source": [
        "Just as with linear regression, we need a way to evaluate how well our model is performing. A natural way to do this would be to find the percentage of labels that were predicted correctly i.e. the **accuracy** of the predictions. "
      ]
    },
    {
      "cell_type": "code",
      "metadata": {
        "id": "wYDa3T5209ex",
        "colab_type": "code",
        "colab": {}
      },
      "source": [
        "def accuracy(outputs, labels):\n",
        "    _, preds = torch.max(outputs, dim=1)\n",
        "    return torch.tensor(torch.sum(preds == labels).item() / len(preds))"
      ],
      "execution_count": 0,
      "outputs": []
    },
    {
      "cell_type": "markdown",
      "metadata": {
        "id": "Zx17Brzo09e1",
        "colab_type": "text"
      },
      "source": [
        "The `==` performs an element-wise comparison of two tensors with the same shape, and returns a tensor of the same shape, containing 0s for unequal elements, and 1s for equal elements. Passing the result to `torch.sum` returns the number of labels that were predicted correctly. Finally, we divide by the total number of images to get the accuracy. \n",
        "\n",
        "Note that we don't need to apply softmax to the outputs, since it doesn't change the relative order of the results. This is because `e^x` is an increasing function i.e. if `y1 > y2`, then `e^y1 > e^y2` and the same holds true after averaging out the values to get the softmax.\n",
        "\n",
        "Let's calculate the accuracy of the current model, on the first batch of data. Obviously, we expect it to be pretty bad."
      ]
    },
    {
      "cell_type": "code",
      "metadata": {
        "id": "-SFNq7Yh09e1",
        "colab_type": "code",
        "outputId": "cb9c8639-6bf6-41e9-b802-cbb2d88891ef",
        "colab": {
          "base_uri": "https://localhost:8080/",
          "height": 34
        }
      },
      "source": [
        "accuracy(outputs, labels)"
      ],
      "execution_count": 52,
      "outputs": [
        {
          "output_type": "execute_result",
          "data": {
            "text/plain": [
              "tensor(0.1094)"
            ]
          },
          "metadata": {
            "tags": []
          },
          "execution_count": 52
        }
      ]
    },
    {
      "cell_type": "markdown",
      "metadata": {
        "id": "NL7j_u3109e4",
        "colab_type": "text"
      },
      "source": [
        "While the accuracy is a great way for us (humans) to evaluate the model, it can't be used as a loss function for optimizing our model using gradient descent, for the following reasons:\n",
        "\n",
        "1. It's not a differentiable function. `torch.max` and `==` are both non-continuous and non-differentiable operations, so we can't use the accuracy for computing gradients w.r.t the weights and biases.\n",
        "\n",
        "2. It doesn't take into account the actual probabilities predicted by the model, so it can't provide sufficient feedback for incremental improvements. \n",
        "\n",
        "Due to these reasons, accuracy is a great **evaluation metric** for classification, but not a good loss function. A commonly used loss function for classification problems is the **cross entropy**, which has the following formula:\n",
        "\n",
        "![cross-entropy](https://i.imgur.com/VDRDl1D.png)\n",
        "\n",
        "While it looks complicated, it's actually quite simple:\n",
        "\n",
        "* For each output row, pick the predicted probability for the correct label. E.g. if the predicted probabilities for an image are `[0.1, 0.3, 0.2, ...]` and the correct label is `1`, we pick the corresponding element `0.3` and ignore the rest.\n",
        "\n",
        "* Then, take the [logarithm](https://en.wikipedia.org/wiki/Logarithm) of the picked probability. If the probability is high i.e. close to 1, then its logarithm is a very small negative value, close to 0. And if the probability is low (close to 0), then the logarithm is a very large negative value. We also multiply the result by -1, which results is a large postive value of the loss for poor predictions.\n",
        "\n",
        "* Finally, take the average of the cross entropy across all the output rows to get the overall loss for a batch of data.\n",
        "\n",
        "Unlike accuracy, cross-entropy is a continuous and differentiable function that also provides good feedback for incremental improvements in the model (a slightly higher probability for the correct label leads to a lower loss). This makes it a good choice for the loss function. \n",
        "\n",
        "As you might expect, PyTorch provides an efficient and tensor-friendly implementation of cross entropy as part of the `torch.nn.functional` package. Moreover, it also performs softmax internally, so we can directly pass in the outputs of the model without converting them into probabilities."
      ]
    },
    {
      "cell_type": "code",
      "metadata": {
        "id": "I4vL_4Z009e5",
        "colab_type": "code",
        "colab": {}
      },
      "source": [
        "loss_fn = F.cross_entropy"
      ],
      "execution_count": 0,
      "outputs": []
    },
    {
      "cell_type": "code",
      "metadata": {
        "id": "Id3QZ40o09e7",
        "colab_type": "code",
        "outputId": "7c21c3fe-a2c5-4272-ded2-db5a260449f5",
        "colab": {
          "base_uri": "https://localhost:8080/",
          "height": 34
        }
      },
      "source": [
        "# Loss for current batch of data\n",
        "loss = loss_fn(outputs, labels)\n",
        "print(loss)"
      ],
      "execution_count": 54,
      "outputs": [
        {
          "output_type": "stream",
          "text": [
            "tensor(2.2895, grad_fn=<NllLossBackward>)\n"
          ],
          "name": "stdout"
        }
      ]
    },
    {
      "cell_type": "markdown",
      "metadata": {
        "id": "1-uOxP7d09e9",
        "colab_type": "text"
      },
      "source": [
        "Since the cross entropy is the negative logarithm of the predicted probability of the correct label averaged over all training samples, one way to interpret the resulting number e.g. `2.23` is look at `e^-2.23` which is around `0.1` as the predicted probability of the correct label, on average. *Lower the loss, better the model.*"
      ]
    },
    {
      "cell_type": "markdown",
      "metadata": {
        "id": "3KTCP_sN09e-",
        "colab_type": "text"
      },
      "source": [
        "## Training the model\n",
        "\n",
        "Now that we have defined the data loaders, model, loss function and optimizer, we are ready to train the model. The training process is identical to linear regression, with the addition of a \"validation phase\" to evaluate the model in each epoch. Here's what it looks like in pseudocode:\n",
        "\n",
        "```\n",
        "for epoch in range(num_epochs):\n",
        "    # Training phase\n",
        "    for batch in train_loader:\n",
        "        # Generate predictions\n",
        "        # Calculate loss\n",
        "        # Compute gradients\n",
        "        # Update weights\n",
        "        # Reset gradients\n",
        "    \n",
        "    # Validation phase\n",
        "    for batch in val_loader:\n",
        "        # Generate predictions\n",
        "        # Calculate loss\n",
        "        # Calculate metrics (accuracy etc.)\n",
        "    # Calculate average validation loss & metrics\n",
        "    \n",
        "    # Log epoch, loss & metrics for inspection\n",
        "```\n",
        "\n",
        "Some parts of the training loop are specific the specific problem we're solving (e.g. loss function, metrics etc.) whereas others are generic and can be applied to any deep learning problem. Let's impelment the problem-specific parts within our `MnistModel` class:"
      ]
    },
    {
      "cell_type": "code",
      "metadata": {
        "id": "kBaW5Lgw09e_",
        "colab_type": "code",
        "colab": {}
      },
      "source": [
        "class MnistModel(nn.Module):\n",
        "    def __init__(self):\n",
        "        super().__init__()\n",
        "        self.linear = nn.Linear(input_size, num_classes)\n",
        "        \n",
        "    def forward(self, xb):\n",
        "        xb = xb.reshape(-1, 784)\n",
        "        out = self.linear(xb)\n",
        "        return out\n",
        "    \n",
        "    def training_step(self, batch):\n",
        "        images, labels = batch \n",
        "        out = self(images)                  # Generate predictions\n",
        "        loss = F.cross_entropy(out, labels) # Calculate loss\n",
        "        return loss\n",
        "    \n",
        "    def validation_step(self, batch):\n",
        "        images, labels = batch \n",
        "        out = self(images)                    # Generate predictions\n",
        "        loss = F.cross_entropy(out, labels)   # Calculate loss\n",
        "        acc = accuracy(out, labels)           # Calculate accuracy\n",
        "        return {'val_loss': loss, 'val_acc': acc}\n",
        "        \n",
        "    def validation_epoch_end(self, outputs):\n",
        "        batch_losses = [x['val_loss'] for x in outputs]\n",
        "        epoch_loss = torch.stack(batch_losses).mean()   # Combine losses\n",
        "        batch_accs = [x['val_acc'] for x in outputs]\n",
        "        epoch_acc = torch.stack(batch_accs).mean()      # Combine accuracies\n",
        "        return {'val_loss': epoch_loss.item(), 'val_acc': epoch_acc.item()}\n",
        "    \n",
        "    def epoch_end(self, epoch, result):\n",
        "        print(\"Epoch [{}], val_loss: {:.4f}, val_acc: {:.4f}\".format(epoch, result['val_loss'], result['val_acc']))\n",
        "    \n",
        "model = MnistModel()"
      ],
      "execution_count": 0,
      "outputs": []
    },
    {
      "cell_type": "markdown",
      "metadata": {
        "id": "H7xwAEs609fE",
        "colab_type": "text"
      },
      "source": [
        "Now we'll define an `evaluate` function, which will perform the validation phase, and a `fit` function which will peform the entire training process."
      ]
    },
    {
      "cell_type": "code",
      "metadata": {
        "id": "QAHyF9Wp09fE",
        "colab_type": "code",
        "colab": {}
      },
      "source": [
        "def evaluate(model, val_loader):\n",
        "    outputs = [model.validation_step(batch) for batch in val_loader]\n",
        "    return model.validation_epoch_end(outputs)\n",
        "\n",
        "def fit(epochs, lr, model, train_loader, val_loader, opt_func=torch.optim.SGD):\n",
        "    history = []\n",
        "    optimizer = opt_func(model.parameters(), lr)\n",
        "    for epoch in range(epochs):\n",
        "        # Training Phase \n",
        "        for batch in train_loader:\n",
        "            loss = model.training_step(batch)\n",
        "            loss.backward()\n",
        "            optimizer.step()\n",
        "            optimizer.zero_grad()\n",
        "        # Validation phase\n",
        "        result = evaluate(model, val_loader)\n",
        "        model.epoch_end(epoch, result)\n",
        "        history.append(result)\n",
        "    return history"
      ],
      "execution_count": 0,
      "outputs": []
    },
    {
      "cell_type": "markdown",
      "metadata": {
        "id": "NV8omh4h09fH",
        "colab_type": "text"
      },
      "source": [
        "The `fit` function records the validation loss and metric from each epoch and returns a history of the training process. This is useful for debuggin & visualizing the training process. Before we train the model, let's see how the model performs on the validation set with the initial set of randomly initialized weights & biases.\n",
        "\n",
        "Configurations like batch size, learning rate etc. need to picked in advance while training machine learning models, and are called hyperparameters. Picking the right hyperparameters is critical for training an accurate model within a reasonable amount of time, and is an active area of research and experimentation. Feel free to try different learning rates and see how it affects the training process."
      ]
    },
    {
      "cell_type": "code",
      "metadata": {
        "id": "ULP5Usoc09fI",
        "colab_type": "code",
        "outputId": "b0c31be8-c96c-4f24-9a2d-ba63d6ebfd7f",
        "colab": {
          "base_uri": "https://localhost:8080/",
          "height": 34
        }
      },
      "source": [
        "result0 = evaluate(model, val_loader)\n",
        "result0"
      ],
      "execution_count": 57,
      "outputs": [
        {
          "output_type": "execute_result",
          "data": {
            "text/plain": [
              "{'val_acc': 0.11797863990068436, 'val_loss': 2.330017328262329}"
            ]
          },
          "metadata": {
            "tags": []
          },
          "execution_count": 57
        }
      ]
    },
    {
      "cell_type": "markdown",
      "metadata": {
        "id": "CO6ZJaCC09fK",
        "colab_type": "text"
      },
      "source": [
        "The initial accuracy is around 10%, which is what one might expect from a randomly intialized model (since it has a 1 in 10 chance of getting a label right by guessing randomly). Also note that we are using the `.format` method with the message string to print only the first four digits after the decimal point.\n",
        "\n",
        "We are now ready to train the model. Let's train for 5 epochs and look at the results."
      ]
    },
    {
      "cell_type": "code",
      "metadata": {
        "id": "LDd40wO609fK",
        "colab_type": "code",
        "outputId": "c5d077e7-8ac0-4e40-d646-29595dc3158b",
        "colab": {
          "base_uri": "https://localhost:8080/",
          "height": 104
        }
      },
      "source": [
        "history1 = fit(5, 0.001, model, train_loader, val_loader)"
      ],
      "execution_count": 58,
      "outputs": [
        {
          "output_type": "stream",
          "text": [
            "Epoch [0], val_loss: 1.9597, val_acc: 0.6073\n",
            "Epoch [1], val_loss: 1.6912, val_acc: 0.7291\n",
            "Epoch [2], val_loss: 1.4903, val_acc: 0.7640\n",
            "Epoch [3], val_loss: 1.3384, val_acc: 0.7804\n",
            "Epoch [4], val_loss: 1.2215, val_acc: 0.7921\n"
          ],
          "name": "stdout"
        }
      ]
    },
    {
      "cell_type": "markdown",
      "metadata": {
        "id": "lnuvjtKD09fN",
        "colab_type": "text"
      },
      "source": [
        "That's a great result! With just 5 epochs of training, our model has reached an accuracy of over 80% on the validation set. Let's see if we can improve that by training for a few more epochs."
      ]
    },
    {
      "cell_type": "code",
      "metadata": {
        "id": "atN5lT6A09fN",
        "colab_type": "code",
        "outputId": "5f957cc9-cd0f-40de-d2de-0a4a11eb8218",
        "colab": {
          "base_uri": "https://localhost:8080/",
          "height": 104
        }
      },
      "source": [
        "history2 = fit(5, 0.001, model, train_loader, val_loader)"
      ],
      "execution_count": 59,
      "outputs": [
        {
          "output_type": "stream",
          "text": [
            "Epoch [0], val_loss: 1.1298, val_acc: 0.8024\n",
            "Epoch [1], val_loss: 1.0560, val_acc: 0.8075\n",
            "Epoch [2], val_loss: 0.9957, val_acc: 0.8134\n",
            "Epoch [3], val_loss: 0.9456, val_acc: 0.8176\n",
            "Epoch [4], val_loss: 0.9031, val_acc: 0.8204\n"
          ],
          "name": "stdout"
        }
      ]
    },
    {
      "cell_type": "code",
      "metadata": {
        "id": "UsVxvxIi09fP",
        "colab_type": "code",
        "outputId": "f63dc7f2-48cb-4977-fb0f-209fa8c769bf",
        "colab": {
          "base_uri": "https://localhost:8080/",
          "height": 86
        }
      },
      "source": [
        "history3 = fit(5, 0.001, model, train_loader, val_loader)"
      ],
      "execution_count": 60,
      "outputs": [
        {
          "output_type": "stream",
          "text": [
            "Epoch [0], val_loss: 0.8668, val_acc: 0.8240\n",
            "Epoch [1], val_loss: 0.8354, val_acc: 0.8267\n",
            "Epoch [2], val_loss: 0.8078, val_acc: 0.8294\n",
            "Epoch [3], val_loss: 0.7834, val_acc: 0.8335\n"
          ],
          "name": "stdout"
        }
      ]
    },
    {
      "cell_type": "code",
      "metadata": {
        "id": "HdOtpi1q09fR",
        "colab_type": "code",
        "outputId": "934f82ed-9186-499f-f6c7-d04d22bf9d74",
        "colab": {
          "base_uri": "https://localhost:8080/",
          "height": 104
        }
      },
      "source": [
        "history4 = fit(5, 0.001, model, train_loader, val_loader)"
      ],
      "execution_count": 61,
      "outputs": [
        {
          "output_type": "stream",
          "text": [
            "Epoch [0], val_loss: 0.7423, val_acc: 0.8380\n",
            "Epoch [1], val_loss: 0.7248, val_acc: 0.8399\n",
            "Epoch [2], val_loss: 0.7088, val_acc: 0.8423\n",
            "Epoch [3], val_loss: 0.6942, val_acc: 0.8439\n",
            "Epoch [4], val_loss: 0.6809, val_acc: 0.8456\n"
          ],
          "name": "stdout"
        }
      ]
    },
    {
      "cell_type": "markdown",
      "metadata": {
        "id": "0b8_KECz09fV",
        "colab_type": "text"
      },
      "source": [
        "While the accuracy does continue to increase as we train for more epochs, the improvements get smaller with every epoch. This is easier to see using a line graph."
      ]
    },
    {
      "cell_type": "code",
      "metadata": {
        "id": "_mXJ2SAf09fW",
        "colab_type": "code",
        "outputId": "ceed1885-a9ae-4b09-bdfe-142efcc9c990",
        "colab": {
          "base_uri": "https://localhost:8080/",
          "height": 295
        }
      },
      "source": [
        "# Replace these values with your results\n",
        "history = [result0] + history1 + history2 + history3 + history4\n",
        "accuracies = [result['val_acc'] for result in history]\n",
        "plt.plot(accuracies, '-x')\n",
        "plt.xlabel('epoch')\n",
        "plt.ylabel('accuracy')\n",
        "plt.title('Accuracy vs. No. of epochs');"
      ],
      "execution_count": 62,
      "outputs": [
        {
          "output_type": "display_data",
          "data": {
            "image/png": "[encoded data removed]",
            "text/plain": [
              "<Figure size 432x288 with 1 Axes>"
            ]
          },
          "metadata": {
            "tags": [],
            "needs_background": "light"
          }
        }
      ]
    },
    {
      "cell_type": "markdown",
      "metadata": {
        "id": "swfl2-1L09fX",
        "colab_type": "text"
      },
      "source": [
        "It's quite clear from the above picture that the model probably won't cross the accuracy threshold of 90% even after training for a very long time. One possible reason for this is that the learning rate might be too high. It's possible that the model's paramaters are \"bouncing\" around the optimal set of parameters that have the lowest loss. You can try reducing the learning rate and training for a few more epochs to see if it helps.\n",
        "\n",
        "The more likely reason that **the model just isn't powerful enough**. If you remember our initial hypothesis, we have assumed that the output (in this case the class probabilities) is a **linear function** of the input (pixel intensities), obtained by perfoming a matrix multiplication with the weights matrix and adding the bias. This is a fairly weak assumption, as there may not actually exist a linear relationship between the pixel intensities in an image and the digit it represents. While it works reasonably well for a simple dataset like MNIST (getting us to 85% accuracy), we need more sophisticated models that can capture non-linear relationships between image pixels and labels for complex tasks like recognizing everyday objects, animals etc. \n",
        "\n"
      ]
    },
    {
      "cell_type": "markdown",
      "metadata": {
        "id": "DwQp4HdR09fc",
        "colab_type": "text"
      },
      "source": [
        "## Testing with individual images"
      ]
    },
    {
      "cell_type": "markdown",
      "metadata": {
        "id": "JQ-yXF-a09fc",
        "colab_type": "text"
      },
      "source": [
        "While we have been tracking the overall accuracy of a model so far, it's also a good idea to look at model's results on some sample images. Let's test out our model with some images from the predefined test dataset of 10000 images. We begin by recreating the test dataset with the `ToTensor` transform."
      ]
    },
    {
      "cell_type": "code",
      "metadata": {
        "id": "6k0Si7_709fd",
        "colab_type": "code",
        "colab": {}
      },
      "source": [
        "# Define test dataset\n",
        "test_dataset = MNIST(root='data/', \n",
        "                     train=False,\n",
        "                     transform=transforms.ToTensor())"
      ],
      "execution_count": 0,
      "outputs": []
    },
    {
      "cell_type": "markdown",
      "metadata": {
        "id": "3xt98EFh09ff",
        "colab_type": "text"
      },
      "source": [
        "Here's a sample image from the dataset."
      ]
    },
    {
      "cell_type": "code",
      "metadata": {
        "id": "R_H8xcmG09fg",
        "colab_type": "code",
        "outputId": "b71b4aed-2d88-4c32-97d3-01f2d79e79c0",
        "colab": {
          "base_uri": "https://localhost:8080/",
          "height": 299
        }
      },
      "source": [
        "img, label = test_dataset[0]\n",
        "plt.imshow(img[0], cmap='gray')\n",
        "print('Shape:', img.shape)\n",
        "print('Label:', label)"
      ],
      "execution_count": 64,
      "outputs": [
        {
          "output_type": "stream",
          "text": [
            "Shape: torch.Size([1, 28, 28])\n",
            "Label: 7\n"
          ],
          "name": "stdout"
        },
        {
          "output_type": "display_data",
          "data": {
            "image/png": "[encoded data removed]",
            "text/plain": [
              "<Figure size 432x288 with 1 Axes>"
            ]
          },
          "metadata": {
            "tags": [],
            "needs_background": "light"
          }
        }
      ]
    },
    {
      "cell_type": "code",
      "metadata": {
        "id": "RexFPxDY09fi",
        "colab_type": "code",
        "outputId": "ce355910-bd91-4606-82a0-fda6bed5bdd4",
        "colab": {
          "base_uri": "https://localhost:8080/",
          "height": 34
        }
      },
      "source": [
        "img.unsqueeze(0).shape"
      ],
      "execution_count": 65,
      "outputs": [
        {
          "output_type": "execute_result",
          "data": {
            "text/plain": [
              "torch.Size([1, 1, 28, 28])"
            ]
          },
          "metadata": {
            "tags": []
          },
          "execution_count": 65
        }
      ]
    },
    {
      "cell_type": "markdown",
      "metadata": {
        "id": "S_kIRTRv09fl",
        "colab_type": "text"
      },
      "source": [
        "Let's define a helper function `predict_image`, which returns the predicted label for a single image tensor."
      ]
    },
    {
      "cell_type": "code",
      "metadata": {
        "id": "k1eGxysJ09fo",
        "colab_type": "code",
        "colab": {}
      },
      "source": [
        "def predict_image(img, model):\n",
        "    xb = img.unsqueeze(0)\n",
        "    yb = model(xb)\n",
        "    _, preds  = torch.max(yb, dim=1)\n",
        "    return preds[0].item()"
      ],
      "execution_count": 0,
      "outputs": []
    },
    {
      "cell_type": "markdown",
      "metadata": {
        "id": "EzBKlm0d09fp",
        "colab_type": "text"
      },
      "source": [
        "`img.unsqueeze` simply adds another dimension at the begining of the 1x28x28 tensor, making it a 1x1x28x28 tensor, which the model views as a batch containing a single image.\n",
        "\n",
        "Let's try it out with a few images."
      ]
    },
    {
      "cell_type": "code",
      "metadata": {
        "id": "Y5jNMflm09fq",
        "colab_type": "code",
        "outputId": "76b6b5db-9610-4fe2-d25f-ffbc2a304b5f",
        "colab": {
          "base_uri": "https://localhost:8080/",
          "height": 282
        }
      },
      "source": [
        "img, label = test_dataset[0]\n",
        "plt.imshow(img[0], cmap='gray')\n",
        "print('Label:', label, ', Predicted:', predict_image(img, model))"
      ],
      "execution_count": 67,
      "outputs": [
        {
          "output_type": "stream",
          "text": [
            "Label: 7 , Predicted: 7\n"
          ],
          "name": "stdout"
        },
        {
          "output_type": "display_data",
          "data": {
            "image/png": "[encoded data removed]",
            "text/plain": [
              "<Figure size 432x288 with 1 Axes>"
            ]
          },
          "metadata": {
            "tags": [],
            "needs_background": "light"
          }
        }
      ]
    },
    {
      "cell_type": "code",
      "metadata": {
        "id": "c_ByBQ6d09fr",
        "colab_type": "code",
        "outputId": "d2ee447f-292b-4f3a-94c1-8a12b518c2d1",
        "colab": {
          "base_uri": "https://localhost:8080/",
          "height": 282
        }
      },
      "source": [
        "img, label = test_dataset[10]\n",
        "plt.imshow(img[0], cmap='gray')\n",
        "print('Label:', label, ', Predicted:', predict_image(img, model))"
      ],
      "execution_count": 68,
      "outputs": [
        {
          "output_type": "stream",
          "text": [
            "Label: 0 , Predicted: 0\n"
          ],
          "name": "stdout"
        },
        {
          "output_type": "display_data",
          "data": {
            "image/png": "[encoded data removed]",
            "text/plain": [
              "<Figure size 432x288 with 1 Axes>"
            ]
          },
          "metadata": {
            "tags": [],
            "needs_background": "light"
          }
        }
      ]
    },
    {
      "cell_type": "code",
      "metadata": {
        "id": "OkmnOPU309ft",
        "colab_type": "code",
        "outputId": "4b827b25-d124-42cc-bcb1-8b41bcd19611",
        "colab": {
          "base_uri": "https://localhost:8080/",
          "height": 282
        }
      },
      "source": [
        "img, label = test_dataset[193]\n",
        "plt.imshow(img[0], cmap='gray')\n",
        "print('Label:', label, ', Predicted:', predict_image(img, model))"
      ],
      "execution_count": 69,
      "outputs": [
        {
          "output_type": "stream",
          "text": [
            "Label: 9 , Predicted: 3\n"
          ],
          "name": "stdout"
        },
        {
          "output_type": "display_data",
          "data": {
            "image/png": "[encoded data removed]",
            "text/plain": [
              "<Figure size 432x288 with 1 Axes>"
            ]
          },
          "metadata": {
            "tags": [],
            "needs_background": "light"
          }
        }
      ]
    },
    {
      "cell_type": "code",
      "metadata": {
        "id": "fznSYyYD09fv",
        "colab_type": "code",
        "outputId": "7dddf65f-94f0-42ae-afb3-441cbd598789",
        "colab": {
          "base_uri": "https://localhost:8080/",
          "height": 282
        }
      },
      "source": [
        "img, label = test_dataset[1839]\n",
        "plt.imshow(img[0], cmap='gray')\n",
        "print('Label:', label, ', Predicted:', predict_image(img, model))"
      ],
      "execution_count": 70,
      "outputs": [
        {
          "output_type": "stream",
          "text": [
            "Label: 2 , Predicted: 8\n"
          ],
          "name": "stdout"
        },
        {
          "output_type": "display_data",
          "data": {
            "image/png": "[encoded data removed]",
            "text/plain": [
              "<Figure size 432x288 with 1 Axes>"
            ]
          },
          "metadata": {
            "tags": [],
            "needs_background": "light"
          }
        }
      ]
    },
    {
      "cell_type": "markdown",
      "metadata": {
        "id": "QW16fdzB09fx",
        "colab_type": "text"
      },
      "source": [
        "Identifying where our model performs poorly can help us improve the model, by collecting more training data, increasing/decreasing the complexity of the model, and changing the hypeparameters.\n",
        "\n",
        "As a final step, let's also look at the overall loss and accuracy of the model on the test set."
      ]
    },
    {
      "cell_type": "code",
      "metadata": {
        "id": "vuYSqbCT09fx",
        "colab_type": "code",
        "outputId": "bb35c2b9-44f2-45a7-9d86-bde694147eab",
        "colab": {
          "base_uri": "https://localhost:8080/",
          "height": 34
        }
      },
      "source": [
        "test_loader = DataLoader(test_dataset, batch_size=256)\n",
        "result = evaluate(model, test_loader)\n",
        "result"
      ],
      "execution_count": 71,
      "outputs": [
        {
          "output_type": "execute_result",
          "data": {
            "text/plain": [
              "{'val_acc': 0.858593761920929, 'val_loss': 0.6408211588859558}"
            ]
          },
          "metadata": {
            "tags": []
          },
          "execution_count": 71
        }
      ]
    },
    {
      "cell_type": "markdown",
      "metadata": {
        "id": "v8U7OhKL09f1",
        "colab_type": "text"
      },
      "source": [
        "We expect this to be similar to the accuracy/loss on the validation set. If not, we might need a better validation set that has similar data and distribution as the test set (which often comes from real world data)."
      ]
    },
    {
      "cell_type": "markdown",
      "metadata": {
        "id": "gNhirM3D09f2",
        "colab_type": "text"
      },
      "source": [
        "## Saving and loading the model"
      ]
    },
    {
      "cell_type": "markdown",
      "metadata": {
        "id": "SNeBiZ7p09f3",
        "colab_type": "text"
      },
      "source": [
        "Since we've trained our model for a long time and achieved a resonable accuracy, it would be a good idea to save the weights and bias matrices to disk, so that we can reuse the model later and avoid retraining from scratch. Here's how you can save the model."
      ]
    },
    {
      "cell_type": "code",
      "metadata": {
        "id": "XjSyjmYZ09f3",
        "colab_type": "code",
        "colab": {}
      },
      "source": [
        "torch.save(model.state_dict(), 'mnist-logistic.pth')"
      ],
      "execution_count": 0,
      "outputs": []
    },
    {
      "cell_type": "markdown",
      "metadata": {
        "id": "Lu8_6e6N09f5",
        "colab_type": "text"
      },
      "source": [
        "The `.state_dict` method returns an `OrderedDict` containing all the weights and bias matrices mapped to the right attributes of the model."
      ]
    },
    {
      "cell_type": "code",
      "metadata": {
        "id": "lUt5yWUb09f5",
        "colab_type": "code",
        "outputId": "744aa724-041d-47e2-8441-34fd4d7bf775",
        "colab": {
          "base_uri": "https://localhost:8080/",
          "height": 207
        }
      },
      "source": [
        "model.state_dict()"
      ],
      "execution_count": 73,
      "outputs": [
        {
          "output_type": "execute_result",
          "data": {
            "text/plain": [
              "OrderedDict([('linear.weight',\n",
              "              tensor([[ 0.0330, -0.0083, -0.0001,  ...,  0.0120,  0.0116, -0.0258],\n",
              "                      [ 0.0018,  0.0061,  0.0120,  ..., -0.0276,  0.0015,  0.0351],\n",
              "                      [-0.0304,  0.0031,  0.0328,  ..., -0.0086,  0.0191,  0.0256],\n",
              "                      ...,\n",
              "                      [ 0.0020, -0.0056,  0.0048,  ..., -0.0312, -0.0275, -0.0092],\n",
              "                      [-0.0257,  0.0051, -0.0172,  ...,  0.0068, -0.0170,  0.0118],\n",
              "                      [ 0.0110,  0.0004, -0.0333,  ..., -0.0204,  0.0292, -0.0015]])),\n",
              "             ('linear.bias',\n",
              "              tensor([-0.0753,  0.0842, -0.0194, -0.0075,  0.0151,  0.0434,  0.0196,  0.0307,\n",
              "                      -0.0884, -0.0196]))])"
            ]
          },
          "metadata": {
            "tags": []
          },
          "execution_count": 73
        }
      ]
    },
    {
      "cell_type": "markdown",
      "metadata": {
        "id": "P3cCIB5K09f7",
        "colab_type": "text"
      },
      "source": [
        "To load the model weights, we can instante a new object of the class `MnistModel`, and use the `.load_state_dict` method."
      ]
    },
    {
      "cell_type": "code",
      "metadata": {
        "id": "Atj1IZVm09f7",
        "colab_type": "code",
        "outputId": "b21c4cd1-5d10-422e-ec69-838a781db909",
        "colab": {
          "base_uri": "https://localhost:8080/",
          "height": 207
        }
      },
      "source": [
        "model2 = MnistModel()\n",
        "model2.load_state_dict(torch.load('mnist-logistic.pth'))\n",
        "model2.state_dict()"
      ],
      "execution_count": 74,
      "outputs": [
        {
          "output_type": "execute_result",
          "data": {
            "text/plain": [
              "OrderedDict([('linear.weight',\n",
              "              tensor([[ 0.0330, -0.0083, -0.0001,  ...,  0.0120,  0.0116, -0.0258],\n",
              "                      [ 0.0018,  0.0061,  0.0120,  ..., -0.0276,  0.0015,  0.0351],\n",
              "                      [-0.0304,  0.0031,  0.0328,  ..., -0.0086,  0.0191,  0.0256],\n",
              "                      ...,\n",
              "                      [ 0.0020, -0.0056,  0.0048,  ..., -0.0312, -0.0275, -0.0092],\n",
              "                      [-0.0257,  0.0051, -0.0172,  ...,  0.0068, -0.0170,  0.0118],\n",
              "                      [ 0.0110,  0.0004, -0.0333,  ..., -0.0204,  0.0292, -0.0015]])),\n",
              "             ('linear.bias',\n",
              "              tensor([-0.0753,  0.0842, -0.0194, -0.0075,  0.0151,  0.0434,  0.0196,  0.0307,\n",
              "                      -0.0884, -0.0196]))])"
            ]
          },
          "metadata": {
            "tags": []
          },
          "execution_count": 74
        }
      ]
    },
    {
      "cell_type": "markdown",
      "metadata": {
        "id": "DX4V2ckT09f8",
        "colab_type": "text"
      },
      "source": [
        "Just as a sanity check, let's verify that this model has the same loss and accuracy on the test set as before."
      ]
    },
    {
      "cell_type": "code",
      "metadata": {
        "id": "DYYSXJEf09f8",
        "colab_type": "code",
        "outputId": "bea6d4bc-eb7c-4d0a-d54c-cecc11390aec",
        "colab": {
          "base_uri": "https://localhost:8080/",
          "height": 34
        }
      },
      "source": [
        "test_loader = DataLoader(test_dataset, batch_size=256)\n",
        "result = evaluate(model2, test_loader)\n",
        "result"
      ],
      "execution_count": 75,
      "outputs": [
        {
          "output_type": "execute_result",
          "data": {
            "text/plain": [
              "{'val_acc': 0.858593761920929, 'val_loss': 0.6408211588859558}"
            ]
          },
          "metadata": {
            "tags": []
          },
          "execution_count": 75
        }
      ]
    },
    {
      "cell_type": "markdown",
      "metadata": {
        "id": "aakoj83409gB",
        "colab_type": "text"
      },
      "source": [
        "## Summary and Further Reading\n",
        "\n",
        "We've created a fairly sophisticated training and evaluation pipeline in this tutorial. Here's a list of the topics we've covered:\n",
        "\n",
        "* Working with images in PyTorch (using the MNIST dataset)\n",
        "* Splitting a dataset into training, validation and test sets\n",
        "* Creating PyTorch models with custom logic by extending the `nn.Module` class\n",
        "* Interpreting model ouputs as probabilities using softmax, and picking predicted labels\n",
        "* Picking a good evaluation metric (accuracy) and loss function (cross entropy) for classification problems\n",
        "* Setting up a training loop that also evaluates the model using the validation set\n",
        "* Testing the model manually on randomly picked examples \n",
        "* Saving and loading model checkpoints to avoid retraining from scratch\n",
        "\n",
        "There's a lot of scope to experiment here, and I encourage you to use the interactive nature of Jupyter to play around with the various parameters. Here are a few ideas:\n",
        "\n",
        "* Try making the validation set smaller or larger, and see how it affects the model.\n",
        "* Try changing the learning rate and see if you can achieve the same accuracy in fewer epochs.\n",
        "* Try changing the batch size. What happens if you use too high a batch size, or too low?\n",
        "* Modify the `fit` function to also track the overall loss and accuracy on the training set, and see how it compares with the validation loss/accuracy. Can you explain why it's lower/higher?\n",
        "* Train with a small subset of the data, and see if you can reach a similar level of accuracy.\n",
        "* Try building a model for a different dataset, such as the [CIFAR10 or CIFAR100 datasets](https://www.cs.toronto.edu/~kriz/cifar.html).\n",
        "\n",
        "Here are some references for further reading:\n",
        "* For a more mathematical treatment, see the popular [Machine Learning](https://www.coursera.org/lecture/machine-learning/classification-wlPeP) course on Coursera. Most of the images used in this tutorial series have been taken from this course.\n",
        "* The training loop defined in this notebook was inspired from [FastAI development notebooks](https://github.com/fastai/fastai_docs/blob/master/dev_nb/001a_nn_basics.ipynb) which contain a wealth of other useful stuff if you can read and understand the code.\n",
        "* For a deep dive into softmax and cross entropy, see [this blog post on DeepNotes](https://deepnotes.io/softmax-crossentropy).\n",
        "\n",
        "\n",
        "With this we complete our discussion of logistic regression, and we're ready to move on to the next topic: *feedforward neural networks*!"
      ]
    }
  ]
}